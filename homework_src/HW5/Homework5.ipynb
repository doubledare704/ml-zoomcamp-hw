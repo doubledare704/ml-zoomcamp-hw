{
 "cells": [
  {
   "cell_type": "code",
   "execution_count": 1,
   "id": "c18c298c",
   "metadata": {},
   "outputs": [
    {
     "name": "stdout",
     "output_type": "stream",
     "text": [
      "Requirement already satisfied: pipenv in /home/irelia/miniconda3/envs/ml-zoomcamp/lib/python3.9/site-packages (2023.10.3)\n",
      "Requirement already satisfied: certifi in /home/irelia/miniconda3/envs/ml-zoomcamp/lib/python3.9/site-packages (from pipenv) (2023.7.22)\n",
      "Requirement already satisfied: setuptools>=67 in /home/irelia/miniconda3/envs/ml-zoomcamp/lib/python3.9/site-packages (from pipenv) (68.0.0)\n",
      "Requirement already satisfied: virtualenv>=20.24.2 in /home/irelia/miniconda3/envs/ml-zoomcamp/lib/python3.9/site-packages (from pipenv) (20.24.5)\n",
      "Requirement already satisfied: distlib<1,>=0.3.7 in /home/irelia/miniconda3/envs/ml-zoomcamp/lib/python3.9/site-packages (from virtualenv>=20.24.2->pipenv) (0.3.7)\n",
      "Requirement already satisfied: filelock<4,>=3.12.2 in /home/irelia/miniconda3/envs/ml-zoomcamp/lib/python3.9/site-packages (from virtualenv>=20.24.2->pipenv) (3.12.4)\n",
      "Requirement already satisfied: platformdirs<4,>=3.9.1 in /home/irelia/miniconda3/envs/ml-zoomcamp/lib/python3.9/site-packages (from virtualenv>=20.24.2->pipenv) (3.10.0)\n"
     ]
    }
   ],
   "source": [
    "!pip install pipenv"
   ]
  },
  {
   "cell_type": "code",
   "execution_count": 2,
   "id": "ca583f45",
   "metadata": {},
   "outputs": [
    {
     "name": "stdout",
     "output_type": "stream",
     "text": [
      "\u001b[1mpipenv\u001b[0m, version 2023.10.3\r\n"
     ]
    }
   ],
   "source": [
    "!pipenv --version"
   ]
  },
  {
   "cell_type": "code",
   "execution_count": 3,
   "id": "1d398f27",
   "metadata": {},
   "outputs": [
    {
     "name": "stdout",
     "output_type": "stream",
     "text": [
      "\u001b[1;32mInstalling scikit-\u001b[0m\u001b[1;33mlearn\u001b[0m\u001b[1;32m==\u001b[0m\u001b[1;36m1.3\u001b[0m\u001b[1;32m.\u001b[0m\u001b[1;36m1\u001b[0m\u001b[1;33m...\u001b[0m\n",
      "\u001b[?25lResolving scikit-\u001b[33mlearn\u001b[0m==\u001b[1;36m1.3\u001b[0m.\u001b[1;36m1\u001b[0m\u001b[33m...\u001b[0m\n",
      "\u001b[2K✔ Installation Succeeded\n",
      "\u001b[2K\u001b[32m⠋\u001b[0m Installing scikit-learn...\n",
      "\u001b[1A\u001b[2K\u001b[1mInstalling dependencies from Pipfile.lock \u001b[0m\u001b[1m(\u001b[0m\u001b[1m1c6348\u001b[0m\u001b[1m)\u001b[0m\u001b[1;33m...\u001b[0m\n",
      "To activate this project's virtualenv, run \u001b[33mpipenv shell\u001b[0m.\n",
      "Alternatively, run a command inside the virtualenv with \u001b[33mpipenv run\u001b[0m.\n",
      "Requirement already satisfied: scikit-learn==1.3.1 in /home/irelia/miniconda3/envs/ml-zoomcamp/lib/python3.9/site-packages (1.3.1)\n",
      "Requirement already satisfied: numpy<2.0,>=1.17.3 in /home/irelia/miniconda3/envs/ml-zoomcamp/lib/python3.9/site-packages (from scikit-learn==1.3.1) (1.25.2)\n",
      "Requirement already satisfied: scipy>=1.5.0 in /home/irelia/miniconda3/envs/ml-zoomcamp/lib/python3.9/site-packages (from scikit-learn==1.3.1) (1.11.1)\n",
      "Requirement already satisfied: joblib>=1.1.1 in /home/irelia/miniconda3/envs/ml-zoomcamp/lib/python3.9/site-packages (from scikit-learn==1.3.1) (1.2.0)\n",
      "Requirement already satisfied: threadpoolctl>=2.0.0 in /home/irelia/miniconda3/envs/ml-zoomcamp/lib/python3.9/site-packages (from scikit-learn==1.3.1) (2.2.0)\n"
     ]
    }
   ],
   "source": [
    "!pipenv install scikit-learn==1.3.1\n",
    "!pip install scikit-learn==1.3.1"
   ]
  },
  {
   "cell_type": "code",
   "execution_count": 4,
   "id": "c30c7c47",
   "metadata": {},
   "outputs": [
    {
     "name": "stdout",
     "output_type": "stream",
     "text": [
      "--2023-10-15 17:19:50--  https://raw.githubusercontent.com/DataTalksClub/machine-learning-zoomcamp/master/cohorts/2023/05-deployment/homework/model1.bin\n",
      "Resolving raw.githubusercontent.com (raw.githubusercontent.com)... 185.199.108.133, 185.199.111.133, 185.199.110.133, ...\n",
      "Connecting to raw.githubusercontent.com (raw.githubusercontent.com)|185.199.108.133|:443... connected.\n",
      "HTTP request sent, awaiting response... 200 OK\n",
      "Length: 842 [application/octet-stream]\n",
      "Saving to: ‘model1.bin’\n",
      "\n",
      "model1.bin          100%[===================>]     842  --.-KB/s    in 0s      \n",
      "\n",
      "2023-10-15 17:19:50 (111 MB/s) - ‘model1.bin’ saved [842/842]\n",
      "\n",
      "--2023-10-15 17:19:51--  https://raw.githubusercontent.com/DataTalksClub/machine-learning-zoomcamp/master/cohorts/2023/05-deployment/homework/dv.bin\n",
      "Resolving raw.githubusercontent.com (raw.githubusercontent.com)... 185.199.108.133, 185.199.111.133, 185.199.110.133, ...\n",
      "Connecting to raw.githubusercontent.com (raw.githubusercontent.com)|185.199.108.133|:443... connected.\n",
      "HTTP request sent, awaiting response... 200 OK\n",
      "Length: 560 [application/octet-stream]\n",
      "Saving to: ‘dv.bin’\n",
      "\n",
      "dv.bin              100%[===================>]     560  --.-KB/s    in 0s      \n",
      "\n",
      "2023-10-15 17:19:51 (12.2 MB/s) - ‘dv.bin’ saved [560/560]\n",
      "\n"
     ]
    }
   ],
   "source": [
    "PREFIX=\"https://raw.githubusercontent.com/DataTalksClub/machine-learning-zoomcamp/master/cohorts/2023/05-deployment/homework\"\n",
    "!wget $PREFIX/model1.bin\n",
    "!wget $PREFIX/dv.bin"
   ]
  },
  {
   "cell_type": "code",
   "execution_count": 5,
   "id": "56f698df",
   "metadata": {},
   "outputs": [],
   "source": [
    "# Question 3\n",
    "# Let's use these models!\n",
    "\n",
    "# Write a script for loading these models with pickle\n",
    "# Score this client:\n",
    "# {\"job\": \"retired\", \"duration\": 445, \"poutcome\": \"success\"}\n",
    "# What's the probability that this client will get a credit?"
   ]
  },
  {
   "cell_type": "code",
   "execution_count": 10,
   "id": "95c7fe41",
   "metadata": {},
   "outputs": [
    {
     "name": "stdout",
     "output_type": "stream",
     "text": [
      "0.902\n"
     ]
    }
   ],
   "source": [
    "import pickle\n",
    "\n",
    "\n",
    "def load_bin(filename: str):\n",
    "    with open(filename, 'rb') as f_in:\n",
    "        return pickle.load(f_in)\n",
    "\n",
    "\n",
    "dv = load_bin('dv.bin')\n",
    "model = load_bin('model1.bin')\n",
    "\n",
    "client = {\"job\": \"retired\", \"duration\": 445, \"poutcome\": \"success\"}\n",
    "\n",
    "X = dv.transform([client])\n",
    "y_pred = model.predict_proba(X)[0, 1]\n",
    "\n",
    "print(round(y_pred, 3))"
   ]
  },
  {
   "cell_type": "code",
   "execution_count": 11,
   "id": "40a56622",
   "metadata": {},
   "outputs": [],
   "source": [
    "# Question 4\n",
    "# Now let's serve this model as a web service\n",
    "\n",
    "# Install Flask and gunicorn (or waitress, if you're on Windows)\n",
    "# Write Flask code for serving the model\n",
    "# Now score this client using requests:"
   ]
  },
  {
   "cell_type": "code",
   "execution_count": null,
   "id": "01283192",
   "metadata": {},
   "outputs": [],
   "source": []
  }
 ],
 "metadata": {
  "kernelspec": {
   "display_name": "Python 3 (ipykernel)",
   "language": "python",
   "name": "python3"
  },
  "language_info": {
   "codemirror_mode": {
    "name": "ipython",
    "version": 3
   },
   "file_extension": ".py",
   "mimetype": "text/x-python",
   "name": "python",
   "nbconvert_exporter": "python",
   "pygments_lexer": "ipython3",
   "version": "3.9.18"
  }
 },
 "nbformat": 4,
 "nbformat_minor": 5
}
