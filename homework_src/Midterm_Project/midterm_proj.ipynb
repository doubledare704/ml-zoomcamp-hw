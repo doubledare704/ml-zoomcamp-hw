{
 "cells": [
  {
   "cell_type": "code",
   "execution_count": 1,
   "id": "ebbddb0a4fe15af6",
   "metadata": {
    "collapsed": false,
    "ExecuteTime": {
     "end_time": "2023-10-29T21:13:42.965781200Z",
     "start_time": "2023-10-29T21:13:42.905908400Z"
    }
   },
   "outputs": [],
   "source": [
    "import numpy as np \n",
    "import pandas as pd \n",
    "from sklearn.model_selection import train_test_split"
   ]
  },
  {
   "cell_type": "code",
   "execution_count": 2,
   "outputs": [],
   "source": [
    "import matplotlib.pyplot as plt\n",
    "import seaborn as sns\n",
    "%matplotlib inline"
   ],
   "metadata": {
    "collapsed": false,
    "ExecuteTime": {
     "end_time": "2023-10-29T21:13:42.981861300Z",
     "start_time": "2023-10-29T21:13:42.966856200Z"
    }
   },
   "id": "d38a022d5de7755c"
  },
  {
   "cell_type": "code",
   "execution_count": 3,
   "outputs": [],
   "source": [
    "# Reading data"
   ],
   "metadata": {
    "collapsed": true,
    "ExecuteTime": {
     "end_time": "2023-10-29T21:13:43.001879100Z",
     "start_time": "2023-10-29T21:13:42.983861200Z"
    }
   },
   "id": "initial_id"
  },
  {
   "cell_type": "code",
   "execution_count": 4,
   "outputs": [
    {
     "name": "stdout",
     "output_type": "stream",
     "text": [
      "shape of the data: (568630, 31)\n"
     ]
    },
    {
     "data": {
      "text/plain": "   id        V1        V2        V3        V4        V5        V6        V7  \\\n0   0 -0.260648 -0.469648  2.496266 -0.083724  0.129681  0.732898  0.519014   \n1   1  0.985100 -0.356045  0.558056 -0.429654  0.277140  0.428605  0.406466   \n2   2 -0.260272 -0.949385  1.728538 -0.457986  0.074062  1.419481  0.743511   \n3   3 -0.152152 -0.508959  1.746840 -1.090178  0.249486  1.143312  0.518269   \n4   4 -0.206820 -0.165280  1.527053 -0.448293  0.106125  0.530549  0.658849   \n5   5  0.025302 -0.140514  1.191138 -0.707979  0.430490  0.458973  0.611050   \n6   6  1.016482 -0.397181  0.497868 -0.144463  0.331022  0.629243  0.431262   \n7   7 -0.051306 -0.007194  1.139941 -0.877880  0.684668  0.714326  0.892615   \n8   8 -0.130680 -0.349547  0.425786 -0.760444  1.702777  2.324816  0.568968   \n9   9  0.058419 -0.093507  1.117270 -0.735172  0.466111  0.332371  0.683425   \n\n         V8        V9  ...       V21       V22       V23       V24       V25  \\\n0 -0.130006  0.727159  ... -0.110552  0.217606 -0.134794  0.165959  0.126280   \n1 -0.133118  0.347452  ... -0.194936 -0.605761  0.079469 -0.577395  0.190090   \n2 -0.095576 -0.261297  ... -0.005020  0.702906  0.945045 -1.154666 -0.605564   \n3 -0.065130 -0.205698  ... -0.146927 -0.038212 -0.214048 -1.893131  1.003963   \n4 -0.212660  1.049921  ... -0.106984  0.729727 -0.161666  0.312561 -0.414116   \n5 -0.092629  0.180811  ... -0.187739 -0.538518 -0.050465 -0.631553 -0.456480   \n6 -0.134007  0.796159  ... -0.171137 -0.287017 -0.178197 -1.297597  1.182503   \n7 -0.908409  0.901938  ...  0.620676 -0.920426  0.034660 -1.091527 -0.742075   \n8  0.049100  0.273118  ... -0.132787 -0.284700 -0.227779  2.248754  0.534846   \n9 -0.136674  0.096409  ... -0.203634 -0.601581 -0.145082 -0.654783 -0.196621   \n\n        V26       V27       V28    Amount  Class  \n0 -0.434824 -0.081230 -0.151045  17982.10      0  \n1  0.296503 -0.248052 -0.064512   6531.37      0  \n2 -0.312895 -0.300258 -0.244718   2513.54      0  \n3 -0.515950 -0.165316  0.048424   5384.44      0  \n4  1.071126  0.023712  0.419117  14278.97      0  \n5  0.252670  0.066681  0.095812   6901.49      0  \n6 -0.604228 -0.198163 -0.087619  18954.45      0  \n7 -0.104863 -1.382522 -2.748268  12298.23      0  \n8 -0.929738 -0.224385  0.243790  22052.90      0  \n9  0.226818  0.057119  0.100629    210.35      0  \n\n[10 rows x 31 columns]",
      "text/html": "<div>\n<style scoped>\n    .dataframe tbody tr th:only-of-type {\n        vertical-align: middle;\n    }\n\n    .dataframe tbody tr th {\n        vertical-align: top;\n    }\n\n    .dataframe thead th {\n        text-align: right;\n    }\n</style>\n<table border=\"1\" class=\"dataframe\">\n  <thead>\n    <tr style=\"text-align: right;\">\n      <th></th>\n      <th>id</th>\n      <th>V1</th>\n      <th>V2</th>\n      <th>V3</th>\n      <th>V4</th>\n      <th>V5</th>\n      <th>V6</th>\n      <th>V7</th>\n      <th>V8</th>\n      <th>V9</th>\n      <th>...</th>\n      <th>V21</th>\n      <th>V22</th>\n      <th>V23</th>\n      <th>V24</th>\n      <th>V25</th>\n      <th>V26</th>\n      <th>V27</th>\n      <th>V28</th>\n      <th>Amount</th>\n      <th>Class</th>\n    </tr>\n  </thead>\n  <tbody>\n    <tr>\n      <th>0</th>\n      <td>0</td>\n      <td>-0.260648</td>\n      <td>-0.469648</td>\n      <td>2.496266</td>\n      <td>-0.083724</td>\n      <td>0.129681</td>\n      <td>0.732898</td>\n      <td>0.519014</td>\n      <td>-0.130006</td>\n      <td>0.727159</td>\n      <td>...</td>\n      <td>-0.110552</td>\n      <td>0.217606</td>\n      <td>-0.134794</td>\n      <td>0.165959</td>\n      <td>0.126280</td>\n      <td>-0.434824</td>\n      <td>-0.081230</td>\n      <td>-0.151045</td>\n      <td>17982.10</td>\n      <td>0</td>\n    </tr>\n    <tr>\n      <th>1</th>\n      <td>1</td>\n      <td>0.985100</td>\n      <td>-0.356045</td>\n      <td>0.558056</td>\n      <td>-0.429654</td>\n      <td>0.277140</td>\n      <td>0.428605</td>\n      <td>0.406466</td>\n      <td>-0.133118</td>\n      <td>0.347452</td>\n      <td>...</td>\n      <td>-0.194936</td>\n      <td>-0.605761</td>\n      <td>0.079469</td>\n      <td>-0.577395</td>\n      <td>0.190090</td>\n      <td>0.296503</td>\n      <td>-0.248052</td>\n      <td>-0.064512</td>\n      <td>6531.37</td>\n      <td>0</td>\n    </tr>\n    <tr>\n      <th>2</th>\n      <td>2</td>\n      <td>-0.260272</td>\n      <td>-0.949385</td>\n      <td>1.728538</td>\n      <td>-0.457986</td>\n      <td>0.074062</td>\n      <td>1.419481</td>\n      <td>0.743511</td>\n      <td>-0.095576</td>\n      <td>-0.261297</td>\n      <td>...</td>\n      <td>-0.005020</td>\n      <td>0.702906</td>\n      <td>0.945045</td>\n      <td>-1.154666</td>\n      <td>-0.605564</td>\n      <td>-0.312895</td>\n      <td>-0.300258</td>\n      <td>-0.244718</td>\n      <td>2513.54</td>\n      <td>0</td>\n    </tr>\n    <tr>\n      <th>3</th>\n      <td>3</td>\n      <td>-0.152152</td>\n      <td>-0.508959</td>\n      <td>1.746840</td>\n      <td>-1.090178</td>\n      <td>0.249486</td>\n      <td>1.143312</td>\n      <td>0.518269</td>\n      <td>-0.065130</td>\n      <td>-0.205698</td>\n      <td>...</td>\n      <td>-0.146927</td>\n      <td>-0.038212</td>\n      <td>-0.214048</td>\n      <td>-1.893131</td>\n      <td>1.003963</td>\n      <td>-0.515950</td>\n      <td>-0.165316</td>\n      <td>0.048424</td>\n      <td>5384.44</td>\n      <td>0</td>\n    </tr>\n    <tr>\n      <th>4</th>\n      <td>4</td>\n      <td>-0.206820</td>\n      <td>-0.165280</td>\n      <td>1.527053</td>\n      <td>-0.448293</td>\n      <td>0.106125</td>\n      <td>0.530549</td>\n      <td>0.658849</td>\n      <td>-0.212660</td>\n      <td>1.049921</td>\n      <td>...</td>\n      <td>-0.106984</td>\n      <td>0.729727</td>\n      <td>-0.161666</td>\n      <td>0.312561</td>\n      <td>-0.414116</td>\n      <td>1.071126</td>\n      <td>0.023712</td>\n      <td>0.419117</td>\n      <td>14278.97</td>\n      <td>0</td>\n    </tr>\n    <tr>\n      <th>5</th>\n      <td>5</td>\n      <td>0.025302</td>\n      <td>-0.140514</td>\n      <td>1.191138</td>\n      <td>-0.707979</td>\n      <td>0.430490</td>\n      <td>0.458973</td>\n      <td>0.611050</td>\n      <td>-0.092629</td>\n      <td>0.180811</td>\n      <td>...</td>\n      <td>-0.187739</td>\n      <td>-0.538518</td>\n      <td>-0.050465</td>\n      <td>-0.631553</td>\n      <td>-0.456480</td>\n      <td>0.252670</td>\n      <td>0.066681</td>\n      <td>0.095812</td>\n      <td>6901.49</td>\n      <td>0</td>\n    </tr>\n    <tr>\n      <th>6</th>\n      <td>6</td>\n      <td>1.016482</td>\n      <td>-0.397181</td>\n      <td>0.497868</td>\n      <td>-0.144463</td>\n      <td>0.331022</td>\n      <td>0.629243</td>\n      <td>0.431262</td>\n      <td>-0.134007</td>\n      <td>0.796159</td>\n      <td>...</td>\n      <td>-0.171137</td>\n      <td>-0.287017</td>\n      <td>-0.178197</td>\n      <td>-1.297597</td>\n      <td>1.182503</td>\n      <td>-0.604228</td>\n      <td>-0.198163</td>\n      <td>-0.087619</td>\n      <td>18954.45</td>\n      <td>0</td>\n    </tr>\n    <tr>\n      <th>7</th>\n      <td>7</td>\n      <td>-0.051306</td>\n      <td>-0.007194</td>\n      <td>1.139941</td>\n      <td>-0.877880</td>\n      <td>0.684668</td>\n      <td>0.714326</td>\n      <td>0.892615</td>\n      <td>-0.908409</td>\n      <td>0.901938</td>\n      <td>...</td>\n      <td>0.620676</td>\n      <td>-0.920426</td>\n      <td>0.034660</td>\n      <td>-1.091527</td>\n      <td>-0.742075</td>\n      <td>-0.104863</td>\n      <td>-1.382522</td>\n      <td>-2.748268</td>\n      <td>12298.23</td>\n      <td>0</td>\n    </tr>\n    <tr>\n      <th>8</th>\n      <td>8</td>\n      <td>-0.130680</td>\n      <td>-0.349547</td>\n      <td>0.425786</td>\n      <td>-0.760444</td>\n      <td>1.702777</td>\n      <td>2.324816</td>\n      <td>0.568968</td>\n      <td>0.049100</td>\n      <td>0.273118</td>\n      <td>...</td>\n      <td>-0.132787</td>\n      <td>-0.284700</td>\n      <td>-0.227779</td>\n      <td>2.248754</td>\n      <td>0.534846</td>\n      <td>-0.929738</td>\n      <td>-0.224385</td>\n      <td>0.243790</td>\n      <td>22052.90</td>\n      <td>0</td>\n    </tr>\n    <tr>\n      <th>9</th>\n      <td>9</td>\n      <td>0.058419</td>\n      <td>-0.093507</td>\n      <td>1.117270</td>\n      <td>-0.735172</td>\n      <td>0.466111</td>\n      <td>0.332371</td>\n      <td>0.683425</td>\n      <td>-0.136674</td>\n      <td>0.096409</td>\n      <td>...</td>\n      <td>-0.203634</td>\n      <td>-0.601581</td>\n      <td>-0.145082</td>\n      <td>-0.654783</td>\n      <td>-0.196621</td>\n      <td>0.226818</td>\n      <td>0.057119</td>\n      <td>0.100629</td>\n      <td>210.35</td>\n      <td>0</td>\n    </tr>\n  </tbody>\n</table>\n<p>10 rows × 31 columns</p>\n</div>"
     },
     "execution_count": 4,
     "metadata": {},
     "output_type": "execute_result"
    }
   ],
   "source": [
    "credit_fraud_df = pd.read_csv(\"./credit_fraud_detection/creditcard_2023.csv\")\n",
    "print(f\"shape of the data: {credit_fraud_df.shape}\")\n",
    "credit_fraud_df.head(10)"
   ],
   "metadata": {
    "collapsed": false,
    "ExecuteTime": {
     "end_time": "2023-10-29T21:13:44.735658Z",
     "start_time": "2023-10-29T21:13:42.998878800Z"
    }
   },
   "id": "174ed32b51779a3a"
  },
  {
   "cell_type": "code",
   "execution_count": 5,
   "outputs": [],
   "source": [
    "# check for nulls and remove id column"
   ],
   "metadata": {
    "collapsed": false,
    "ExecuteTime": {
     "end_time": "2023-10-29T21:13:44.760676400Z",
     "start_time": "2023-10-29T21:13:44.729658600Z"
    }
   },
   "id": "8c17f49815a07200"
  },
  {
   "cell_type": "code",
   "execution_count": 6,
   "outputs": [
    {
     "data": {
      "text/plain": "V1        0\nV2        0\nV3        0\nV4        0\nV5        0\nV6        0\nV7        0\nV8        0\nV9        0\nV10       0\nV11       0\nV12       0\nV13       0\nV14       0\nV15       0\nV16       0\nV17       0\nV18       0\nV19       0\nV20       0\nV21       0\nV22       0\nV23       0\nV24       0\nV25       0\nV26       0\nV27       0\nV28       0\nAmount    0\nClass     0\ndtype: int64"
     },
     "execution_count": 6,
     "metadata": {},
     "output_type": "execute_result"
    }
   ],
   "source": [
    "credit_fraud_df.drop(columns=[\"id\"], inplace=True)\n",
    "credit_fraud_df.isna().sum()"
   ],
   "metadata": {
    "collapsed": false,
    "ExecuteTime": {
     "end_time": "2023-10-29T21:13:44.822941Z",
     "start_time": "2023-10-29T21:13:44.744657800Z"
    }
   },
   "id": "646b911bed9cc901"
  },
  {
   "cell_type": "code",
   "execution_count": 7,
   "outputs": [
    {
     "data": {
      "text/plain": "              V1        V2        V3        V4        V5        V6        V7  \\\n510531 -1.704517  2.599199 -1.205391  0.503527 -0.949674  3.226002 -2.323095   \n\n              V8        V9       V10  ...      V21       V22       V23  \\\n510531 -6.027712  0.273389 -0.698893  ...  8.08708 -6.450353  6.343132   \n\n             V24       V25       V26       V27       V28    Amount  Class  \n510531 -1.075048  0.349881 -0.240261  1.534445  2.154102  22549.29      1  \n\n[1 rows x 30 columns]",
      "text/html": "<div>\n<style scoped>\n    .dataframe tbody tr th:only-of-type {\n        vertical-align: middle;\n    }\n\n    .dataframe tbody tr th {\n        vertical-align: top;\n    }\n\n    .dataframe thead th {\n        text-align: right;\n    }\n</style>\n<table border=\"1\" class=\"dataframe\">\n  <thead>\n    <tr style=\"text-align: right;\">\n      <th></th>\n      <th>V1</th>\n      <th>V2</th>\n      <th>V3</th>\n      <th>V4</th>\n      <th>V5</th>\n      <th>V6</th>\n      <th>V7</th>\n      <th>V8</th>\n      <th>V9</th>\n      <th>V10</th>\n      <th>...</th>\n      <th>V21</th>\n      <th>V22</th>\n      <th>V23</th>\n      <th>V24</th>\n      <th>V25</th>\n      <th>V26</th>\n      <th>V27</th>\n      <th>V28</th>\n      <th>Amount</th>\n      <th>Class</th>\n    </tr>\n  </thead>\n  <tbody>\n    <tr>\n      <th>510531</th>\n      <td>-1.704517</td>\n      <td>2.599199</td>\n      <td>-1.205391</td>\n      <td>0.503527</td>\n      <td>-0.949674</td>\n      <td>3.226002</td>\n      <td>-2.323095</td>\n      <td>-6.027712</td>\n      <td>0.273389</td>\n      <td>-0.698893</td>\n      <td>...</td>\n      <td>8.08708</td>\n      <td>-6.450353</td>\n      <td>6.343132</td>\n      <td>-1.075048</td>\n      <td>0.349881</td>\n      <td>-0.240261</td>\n      <td>1.534445</td>\n      <td>2.154102</td>\n      <td>22549.29</td>\n      <td>1</td>\n    </tr>\n  </tbody>\n</table>\n<p>1 rows × 30 columns</p>\n</div>"
     },
     "execution_count": 7,
     "metadata": {},
     "output_type": "execute_result"
    }
   ],
   "source": [
    "# Checking for duplicates\n",
    "credit_fraud_df[credit_fraud_df.duplicated()]"
   ],
   "metadata": {
    "collapsed": false,
    "ExecuteTime": {
     "end_time": "2023-10-29T21:13:46.004863800Z",
     "start_time": "2023-10-29T21:13:44.791796100Z"
    }
   },
   "id": "1f4011e5a0c91308"
  },
  {
   "cell_type": "code",
   "execution_count": 8,
   "outputs": [],
   "source": [
    "df_full_train, df_test = train_test_split(credit_fraud_df, test_size=0.2, random_state=1)\n",
    "df_train, df_val = train_test_split(df_full_train, test_size=0.25, random_state=1)\n",
    "\n",
    "df_train = df_train.reset_index(drop=True)\n",
    "df_val = df_val.reset_index(drop=True)\n",
    "df_test = df_test.reset_index(drop=True)\n",
    "\n",
    "y_train = df_train.Class.values\n",
    "y_val = df_val.Class.values\n",
    "y_test = df_test.Class.values\n",
    "\n",
    "del df_train['Class']\n",
    "del df_val['Class']\n",
    "del df_test['Class']"
   ],
   "metadata": {
    "collapsed": false,
    "ExecuteTime": {
     "end_time": "2023-10-29T21:13:46.221619500Z",
     "start_time": "2023-10-29T21:13:46.005861500Z"
    }
   },
   "id": "e615fba742b6bebb"
  },
  {
   "cell_type": "code",
   "execution_count": 9,
   "outputs": [],
   "source": [
    "# ROC AUC feature importance"
   ],
   "metadata": {
    "collapsed": false,
    "ExecuteTime": {
     "end_time": "2023-10-29T21:13:46.238636300Z",
     "start_time": "2023-10-29T21:13:46.221619500Z"
    }
   },
   "id": "5626a5fee1e7b847"
  },
  {
   "cell_type": "code",
   "execution_count": 10,
   "outputs": [],
   "source": [
    "from sklearn.metrics import roc_auc_score, roc_curve"
   ],
   "metadata": {
    "collapsed": false,
    "ExecuteTime": {
     "end_time": "2023-10-29T21:13:46.255763600Z",
     "start_time": "2023-10-29T21:13:46.238636300Z"
    }
   },
   "id": "f4855f728bffed4b"
  },
  {
   "cell_type": "code",
   "execution_count": 11,
   "outputs": [
    {
     "name": "stdout",
     "output_type": "stream",
     "text": [
      "              V1, 0.797\n",
      "              V2, 0.866\n",
      "              V3, 0.924\n",
      "              V4, 0.950\n",
      "              V5, 0.727\n",
      "              V6, 0.775\n",
      "              V7, 0.844\n",
      "              V8, 0.671\n",
      "              V9, 0.865\n",
      "             V10, 0.935\n",
      "             V11, 0.936\n",
      "             V12, 0.950\n",
      "             V13, 0.539\n",
      "             V14, 0.968\n",
      "             V15, 0.514\n",
      "             V16, 0.857\n",
      "             V17, 0.829\n",
      "             V18, 0.760\n",
      "             V19, 0.661\n",
      "             V20, 0.670\n",
      "             V21, 0.767\n",
      "             V22, 0.510\n",
      "             V23, 0.536\n",
      "             V24, 0.578\n",
      "             V25, 0.536\n",
      "             V26, 0.545\n",
      "             V27, 0.712\n",
      "             V28, 0.654\n",
      "          Amount, 0.502\n"
     ]
    }
   ],
   "source": [
    "for col in df_train:\n",
    "    auc = roc_auc_score(y_train, df_train[col])\n",
    "    if auc < 0.5:\n",
    "        auc = roc_auc_score(y_train, -df_train[col])\n",
    "    print('%16s, %.3f' % (col, auc))"
   ],
   "metadata": {
    "collapsed": false,
    "ExecuteTime": {
     "end_time": "2023-10-29T21:13:49.894418300Z",
     "start_time": "2023-10-29T21:13:46.253763700Z"
    }
   },
   "id": "e61bb0ef9b38813e"
  },
  {
   "cell_type": "code",
   "execution_count": 12,
   "outputs": [
    {
     "data": {
      "text/plain": "<Figure size 500x500 with 1 Axes>",
      "image/png": "[encoded data removed]"
     },
     "metadata": {},
     "output_type": "display_data"
    }
   ],
   "source": [
    "plt.figure(figsize=(5, 5))\n",
    "\n",
    "fpr, tpr, _ = roc_curve(y_train, df_train.V4)\n",
    "plt.plot(fpr, tpr, label='V4')\n",
    "\n",
    "fpr, tpr, _ = roc_curve(y_train, df_train.V3)\n",
    "plt.plot(fpr, tpr, label='V3')\n",
    "\n",
    "fpr, tpr, _ = roc_curve(y_train, df_train.V14)\n",
    "plt.plot(fpr, tpr, label='V14')\n",
    "\n",
    "fpr, tpr, _ = roc_curve(y_train, df_train.V12)\n",
    "plt.plot(fpr, tpr, label='V12')\n",
    "\n",
    "plt.plot([0, 1], [0, 1], color='grey', linestyle='--')\n",
    "\n",
    "plt.legend()\n",
    "plt.show()"
   ],
   "metadata": {
    "collapsed": false,
    "ExecuteTime": {
     "end_time": "2023-10-29T21:13:50.611329400Z",
     "start_time": "2023-10-29T21:13:49.896440500Z"
    }
   },
   "id": "32f49358d85dfd8f"
  },
  {
   "cell_type": "code",
   "execution_count": 13,
   "outputs": [
    {
     "data": {
      "text/plain": "<Figure size 640x480 with 1 Axes>",
      "image/png": "[encoded data removed]"
     },
     "metadata": {},
     "output_type": "display_data"
    }
   ],
   "source": [
    "sns.histplot(df_train.V12[y_train == 1],\n",
    "             stat='density', bins=50,\n",
    "             color='orange', alpha=0.5,\n",
    "             label='positive')\n",
    "sns.histplot(df_train.V12[y_train == 0],\n",
    "             stat='density', bins=50,\n",
    "             color='blue', alpha=0.5,\n",
    "             label='negative')\n",
    "\n",
    "plt.legend()\n",
    "plt.show()"
   ],
   "metadata": {
    "collapsed": false,
    "ExecuteTime": {
     "end_time": "2023-10-29T21:13:50.944145400Z",
     "start_time": "2023-10-29T21:13:50.613407400Z"
    }
   },
   "id": "8a1ce5746b6d1694"
  },
  {
   "cell_type": "code",
   "execution_count": 14,
   "outputs": [
    {
     "data": {
      "text/plain": "<Figure size 640x480 with 1 Axes>",
      "image/png": "[encoded data removed]"
     },
     "metadata": {},
     "output_type": "display_data"
    }
   ],
   "source": [
    "sns.histplot(df_train.V14[y_train == 1],\n",
    "             stat='density', bins=50,\n",
    "             color='orange', alpha=0.5,\n",
    "             label='positive')\n",
    "sns.histplot(df_train.V14[y_train == 0],\n",
    "             stat='density', bins=50,\n",
    "             color='blue', alpha=0.5,\n",
    "             label='negative')\n",
    "\n",
    "plt.legend()\n",
    "plt.show()"
   ],
   "metadata": {
    "collapsed": false,
    "ExecuteTime": {
     "end_time": "2023-10-29T21:13:51.256155800Z",
     "start_time": "2023-10-29T21:13:50.939723900Z"
    }
   },
   "id": "56d5cecc9cc07b9"
  },
  {
   "cell_type": "code",
   "execution_count": 15,
   "outputs": [
    {
     "data": {
      "text/plain": "<Figure size 640x480 with 1 Axes>",
      "image/png": "[encoded data removed]"
     },
     "metadata": {},
     "output_type": "display_data"
    }
   ],
   "source": [
    "sns.histplot(df_train.V3[y_train == 1],\n",
    "             stat='density', bins=50,\n",
    "             color='orange', alpha=0.5,\n",
    "             label='positive')\n",
    "sns.histplot(df_train.V3[y_train == 0],\n",
    "             stat='density', bins=50,\n",
    "             color='blue', alpha=0.5,\n",
    "             label='negative')\n",
    "\n",
    "plt.legend()\n",
    "plt.show()"
   ],
   "metadata": {
    "collapsed": false,
    "ExecuteTime": {
     "end_time": "2023-10-29T21:13:51.568935700Z",
     "start_time": "2023-10-29T21:13:51.252190800Z"
    }
   },
   "id": "ba1d2a6e743cf2ab"
  },
  {
   "cell_type": "code",
   "execution_count": 16,
   "outputs": [
    {
     "data": {
      "text/plain": "<Figure size 640x480 with 1 Axes>",
      "image/png": "[encoded data removed]"
     },
     "metadata": {},
     "output_type": "display_data"
    }
   ],
   "source": [
    "sns.histplot(df_train.V4[y_train == 1],\n",
    "             stat='density', bins=50,\n",
    "             color='orange', alpha=0.5,\n",
    "             label='positive')\n",
    "sns.histplot(df_train.V4[y_train == 0],\n",
    "             stat='density', bins=50,\n",
    "             color='blue', alpha=0.5,\n",
    "             label='negative')\n",
    "\n",
    "plt.legend()\n",
    "plt.show()"
   ],
   "metadata": {
    "collapsed": false,
    "ExecuteTime": {
     "end_time": "2023-10-29T21:13:51.900795500Z",
     "start_time": "2023-10-29T21:13:51.566927900Z"
    }
   },
   "id": "74d3e4ccd506dcdb"
  },
  {
   "cell_type": "code",
   "execution_count": 17,
   "outputs": [],
   "source": [
    "# Training the model"
   ],
   "metadata": {
    "collapsed": false,
    "ExecuteTime": {
     "end_time": "2023-10-29T21:13:51.948349600Z",
     "start_time": "2023-10-29T21:13:51.895791600Z"
    }
   },
   "id": "4b76d3c70578f328"
  },
  {
   "cell_type": "code",
   "execution_count": 18,
   "outputs": [],
   "source": [
    "from sklearn.feature_extraction import DictVectorizer\n",
    "from sklearn.linear_model import LogisticRegression"
   ],
   "metadata": {
    "collapsed": false,
    "ExecuteTime": {
     "end_time": "2023-10-29T21:13:51.949348900Z",
     "start_time": "2023-10-29T21:13:51.911305600Z"
    }
   },
   "id": "75ce1b659b66bb90"
  },
  {
   "cell_type": "code",
   "execution_count": 19,
   "outputs": [],
   "source": [
    "train_dicts = df_train.to_dict(orient='records')\n",
    "dv = DictVectorizer()\n",
    "X_train = dv.fit_transform(train_dicts)\n",
    "\n",
    "model = LogisticRegression(solver='liblinear', C=1.0, max_iter=1000)\n",
    "model.fit(X_train, y_train)\n",
    "\n",
    "val_dicts = df_val.to_dict(orient='records')\n",
    "X_val = dv.transform(val_dicts)\n",
    "\n",
    "y_pred = model.predict_proba(X_val)[:, 1]"
   ],
   "metadata": {
    "collapsed": false,
    "ExecuteTime": {
     "end_time": "2023-10-29T21:14:03.013158400Z",
     "start_time": "2023-10-29T21:13:51.942843100Z"
    }
   },
   "id": "fcc166cc4c5050ef"
  },
  {
   "cell_type": "code",
   "execution_count": 20,
   "outputs": [
    {
     "data": {
      "text/plain": "0.9935843274029322"
     },
     "execution_count": 20,
     "metadata": {},
     "output_type": "execute_result"
    }
   ],
   "source": [
    "roc_auc_score(y_val, y_pred)"
   ],
   "metadata": {
    "collapsed": false,
    "ExecuteTime": {
     "end_time": "2023-10-29T21:14:03.044022500Z",
     "start_time": "2023-10-29T21:14:03.014158800Z"
    }
   },
   "id": "5a6f4fdfb2c25d6f"
  },
  {
   "cell_type": "code",
   "execution_count": 21,
   "outputs": [],
   "source": [
    "# Precision and Recall calculation"
   ],
   "metadata": {
    "collapsed": false,
    "ExecuteTime": {
     "end_time": "2023-10-29T21:14:03.073908900Z",
     "start_time": "2023-10-29T21:14:03.044022500Z"
    }
   },
   "id": "f415650ea0d7d3fa"
  },
  {
   "cell_type": "code",
   "execution_count": 22,
   "outputs": [],
   "source": [
    "def confusion_matrix_dataframe(y_val, y_pred):\n",
    "    scores = []\n",
    "\n",
    "    thresholds = np.linspace(0, 1, 101)\n",
    "\n",
    "    for t in thresholds:\n",
    "        actual_positive = (y_val == 1)\n",
    "        actual_negative = (y_val == 0)\n",
    "\n",
    "        predict_positive = (y_pred >= t)\n",
    "        predict_negative = (y_pred < t)\n",
    "\n",
    "        tp = (predict_positive & actual_positive).sum()\n",
    "        tn = (predict_negative & actual_negative).sum()\n",
    "\n",
    "        fp = (predict_positive & actual_negative).sum()\n",
    "        fn = (predict_negative & actual_positive).sum()\n",
    "\n",
    "        scores.append((t, tp, fp, fn, tn))\n",
    "\n",
    "    columns = ['threshold', 'tp', 'fp', 'fn', 'tn']\n",
    "    df_scores = pd.DataFrame(scores, columns=columns)\n",
    "\n",
    "    return df_scores"
   ],
   "metadata": {
    "collapsed": false,
    "ExecuteTime": {
     "end_time": "2023-10-29T21:14:03.076418500Z",
     "start_time": "2023-10-29T21:14:03.060574100Z"
    }
   },
   "id": "9f2b0965243d1a2"
  },
  {
   "cell_type": "code",
   "execution_count": 23,
   "outputs": [],
   "source": [
    "df_scores = confusion_matrix_dataframe(y_val, y_pred)"
   ],
   "metadata": {
    "collapsed": false,
    "ExecuteTime": {
     "end_time": "2023-10-29T21:14:03.119701100Z",
     "start_time": "2023-10-29T21:14:03.075413700Z"
    }
   },
   "id": "e4a93116aaf09df8"
  },
  {
   "cell_type": "code",
   "execution_count": 24,
   "outputs": [
    {
     "data": {
      "text/plain": "     threshold     tp     fp     fn     tn\n0          0.0  57047  56679      0      0\n10         0.1  56342   7200    705  49479\n20         0.2  55774   3948   1273  52731\n30         0.3  55309   2540   1738  54139\n40         0.4  54852   1829   2195  54850\n50         0.5  54308   1264   2739  55415\n60         0.6  53787    846   3260  55833\n70         0.7  53334    559   3713  56120\n80         0.8  52833    360   4214  56319\n90         0.9  51136    179   5911  56500\n100        1.0  10136      3  46911  56676",
      "text/html": "<div>\n<style scoped>\n    .dataframe tbody tr th:only-of-type {\n        vertical-align: middle;\n    }\n\n    .dataframe tbody tr th {\n        vertical-align: top;\n    }\n\n    .dataframe thead th {\n        text-align: right;\n    }\n</style>\n<table border=\"1\" class=\"dataframe\">\n  <thead>\n    <tr style=\"text-align: right;\">\n      <th></th>\n      <th>threshold</th>\n      <th>tp</th>\n      <th>fp</th>\n      <th>fn</th>\n      <th>tn</th>\n    </tr>\n  </thead>\n  <tbody>\n    <tr>\n      <th>0</th>\n      <td>0.0</td>\n      <td>57047</td>\n      <td>56679</td>\n      <td>0</td>\n      <td>0</td>\n    </tr>\n    <tr>\n      <th>10</th>\n      <td>0.1</td>\n      <td>56342</td>\n      <td>7200</td>\n      <td>705</td>\n      <td>49479</td>\n    </tr>\n    <tr>\n      <th>20</th>\n      <td>0.2</td>\n      <td>55774</td>\n      <td>3948</td>\n      <td>1273</td>\n      <td>52731</td>\n    </tr>\n    <tr>\n      <th>30</th>\n      <td>0.3</td>\n      <td>55309</td>\n      <td>2540</td>\n      <td>1738</td>\n      <td>54139</td>\n    </tr>\n    <tr>\n      <th>40</th>\n      <td>0.4</td>\n      <td>54852</td>\n      <td>1829</td>\n      <td>2195</td>\n      <td>54850</td>\n    </tr>\n    <tr>\n      <th>50</th>\n      <td>0.5</td>\n      <td>54308</td>\n      <td>1264</td>\n      <td>2739</td>\n      <td>55415</td>\n    </tr>\n    <tr>\n      <th>60</th>\n      <td>0.6</td>\n      <td>53787</td>\n      <td>846</td>\n      <td>3260</td>\n      <td>55833</td>\n    </tr>\n    <tr>\n      <th>70</th>\n      <td>0.7</td>\n      <td>53334</td>\n      <td>559</td>\n      <td>3713</td>\n      <td>56120</td>\n    </tr>\n    <tr>\n      <th>80</th>\n      <td>0.8</td>\n      <td>52833</td>\n      <td>360</td>\n      <td>4214</td>\n      <td>56319</td>\n    </tr>\n    <tr>\n      <th>90</th>\n      <td>0.9</td>\n      <td>51136</td>\n      <td>179</td>\n      <td>5911</td>\n      <td>56500</td>\n    </tr>\n    <tr>\n      <th>100</th>\n      <td>1.0</td>\n      <td>10136</td>\n      <td>3</td>\n      <td>46911</td>\n      <td>56676</td>\n    </tr>\n  </tbody>\n</table>\n</div>"
     },
     "execution_count": 24,
     "metadata": {},
     "output_type": "execute_result"
    }
   ],
   "source": [
    "df_scores[::10]\n"
   ],
   "metadata": {
    "collapsed": false,
    "ExecuteTime": {
     "end_time": "2023-10-29T21:14:03.139674500Z",
     "start_time": "2023-10-29T21:14:03.120700700Z"
    }
   },
   "id": "5c137fcecd66f835"
  },
  {
   "cell_type": "code",
   "execution_count": 25,
   "outputs": [],
   "source": [
    "df_scores['p'] = df_scores.tp / (df_scores.tp + df_scores.fp)\n",
    "df_scores['r'] = df_scores.tp / (df_scores.tp + df_scores.fn)"
   ],
   "metadata": {
    "collapsed": false,
    "ExecuteTime": {
     "end_time": "2023-10-29T21:14:03.168881100Z",
     "start_time": "2023-10-29T21:14:03.138674600Z"
    }
   },
   "id": "3b1d17e61cfdb2f5"
  },
  {
   "cell_type": "code",
   "execution_count": 26,
   "outputs": [
    {
     "data": {
      "text/plain": "<Figure size 640x480 with 1 Axes>",
      "image/png": "[encoded data removed]"
     },
     "metadata": {},
     "output_type": "display_data"
    }
   ],
   "source": [
    "plt.plot(df_scores.threshold, df_scores.p, label='precision')\n",
    "plt.plot(df_scores.threshold, df_scores.r, label='recall')\n",
    "\n",
    "plt.vlines(0.48, 0, 1, color='grey', linestyle='--', alpha=0.5)\n",
    "\n",
    "plt.legend()\n",
    "plt.show()"
   ],
   "metadata": {
    "collapsed": false,
    "ExecuteTime": {
     "end_time": "2023-10-29T21:14:03.261529Z",
     "start_time": "2023-10-29T21:14:03.154207800Z"
    }
   },
   "id": "9ca78abb3ea0834a"
  },
  {
   "cell_type": "code",
   "execution_count": 27,
   "outputs": [
    {
     "data": {
      "text/plain": "     threshold     tp     fp     fn     tn         p         r\n0         0.00  57047  56679      0      0  0.501618  1.000000\n1         0.01  56925  28072    122  28607  0.669730  0.997861\n2         0.02  56841  21050    206  35629  0.729751  0.996389\n3         0.03  56778  17220    269  39459  0.767291  0.995285\n4         0.04  56733  14388    314  42291  0.797697  0.994496\n..         ...    ...    ...    ...    ...       ...       ...\n96        0.96  49554     77   7493  56602  0.998449  0.868652\n97        0.97  49069     61   7978  56618  0.998758  0.860150\n98        0.98  48521     45   8526  56634  0.999073  0.850544\n99        0.99  48071     29   8976  56650  0.999397  0.842656\n100       1.00  10136      3  46911  56676  0.999704  0.177678\n\n[101 rows x 7 columns]",
      "text/html": "<div>\n<style scoped>\n    .dataframe tbody tr th:only-of-type {\n        vertical-align: middle;\n    }\n\n    .dataframe tbody tr th {\n        vertical-align: top;\n    }\n\n    .dataframe thead th {\n        text-align: right;\n    }\n</style>\n<table border=\"1\" class=\"dataframe\">\n  <thead>\n    <tr style=\"text-align: right;\">\n      <th></th>\n      <th>threshold</th>\n      <th>tp</th>\n      <th>fp</th>\n      <th>fn</th>\n      <th>tn</th>\n      <th>p</th>\n      <th>r</th>\n    </tr>\n  </thead>\n  <tbody>\n    <tr>\n      <th>0</th>\n      <td>0.00</td>\n      <td>57047</td>\n      <td>56679</td>\n      <td>0</td>\n      <td>0</td>\n      <td>0.501618</td>\n      <td>1.000000</td>\n    </tr>\n    <tr>\n      <th>1</th>\n      <td>0.01</td>\n      <td>56925</td>\n      <td>28072</td>\n      <td>122</td>\n      <td>28607</td>\n      <td>0.669730</td>\n      <td>0.997861</td>\n    </tr>\n    <tr>\n      <th>2</th>\n      <td>0.02</td>\n      <td>56841</td>\n      <td>21050</td>\n      <td>206</td>\n      <td>35629</td>\n      <td>0.729751</td>\n      <td>0.996389</td>\n    </tr>\n    <tr>\n      <th>3</th>\n      <td>0.03</td>\n      <td>56778</td>\n      <td>17220</td>\n      <td>269</td>\n      <td>39459</td>\n      <td>0.767291</td>\n      <td>0.995285</td>\n    </tr>\n    <tr>\n      <th>4</th>\n      <td>0.04</td>\n      <td>56733</td>\n      <td>14388</td>\n      <td>314</td>\n      <td>42291</td>\n      <td>0.797697</td>\n      <td>0.994496</td>\n    </tr>\n    <tr>\n      <th>...</th>\n      <td>...</td>\n      <td>...</td>\n      <td>...</td>\n      <td>...</td>\n      <td>...</td>\n      <td>...</td>\n      <td>...</td>\n    </tr>\n    <tr>\n      <th>96</th>\n      <td>0.96</td>\n      <td>49554</td>\n      <td>77</td>\n      <td>7493</td>\n      <td>56602</td>\n      <td>0.998449</td>\n      <td>0.868652</td>\n    </tr>\n    <tr>\n      <th>97</th>\n      <td>0.97</td>\n      <td>49069</td>\n      <td>61</td>\n      <td>7978</td>\n      <td>56618</td>\n      <td>0.998758</td>\n      <td>0.860150</td>\n    </tr>\n    <tr>\n      <th>98</th>\n      <td>0.98</td>\n      <td>48521</td>\n      <td>45</td>\n      <td>8526</td>\n      <td>56634</td>\n      <td>0.999073</td>\n      <td>0.850544</td>\n    </tr>\n    <tr>\n      <th>99</th>\n      <td>0.99</td>\n      <td>48071</td>\n      <td>29</td>\n      <td>8976</td>\n      <td>56650</td>\n      <td>0.999397</td>\n      <td>0.842656</td>\n    </tr>\n    <tr>\n      <th>100</th>\n      <td>1.00</td>\n      <td>10136</td>\n      <td>3</td>\n      <td>46911</td>\n      <td>56676</td>\n      <td>0.999704</td>\n      <td>0.177678</td>\n    </tr>\n  </tbody>\n</table>\n<p>101 rows × 7 columns</p>\n</div>"
     },
     "execution_count": 27,
     "metadata": {},
     "output_type": "execute_result"
    }
   ],
   "source": [
    "df_scores"
   ],
   "metadata": {
    "collapsed": false,
    "ExecuteTime": {
     "end_time": "2023-10-29T21:14:03.306975300Z",
     "start_time": "2023-10-29T21:14:03.261529Z"
    }
   },
   "id": "2591f9f62f7369e9"
  },
  {
   "cell_type": "code",
   "execution_count": 28,
   "outputs": [],
   "source": [
    "# Getting F1 score"
   ],
   "metadata": {
    "collapsed": false,
    "ExecuteTime": {
     "end_time": "2023-10-29T21:14:03.307976Z",
     "start_time": "2023-10-29T21:14:03.276805700Z"
    }
   },
   "id": "779b34c349f6419d"
  },
  {
   "cell_type": "code",
   "execution_count": 29,
   "outputs": [],
   "source": [
    "df_scores['f1'] = 2 * df_scores.p * df_scores.r / (df_scores.p + df_scores.r)"
   ],
   "metadata": {
    "collapsed": false,
    "ExecuteTime": {
     "end_time": "2023-10-29T21:14:03.343571800Z",
     "start_time": "2023-10-29T21:14:03.292311900Z"
    }
   },
   "id": "b3c40a7bcdcdc034"
  },
  {
   "cell_type": "code",
   "execution_count": 30,
   "outputs": [
    {
     "data": {
      "text/plain": "threshold        0.460000\ntp           54560.000000\nfp            1473.000000\nfn            2487.000000\ntn           55206.000000\np                0.973712\nr                0.956404\nf1               0.964981\nName: 46, dtype: float64"
     },
     "execution_count": 30,
     "metadata": {},
     "output_type": "execute_result"
    }
   ],
   "source": [
    "df_scores.loc[df_scores.f1.argmax()]"
   ],
   "metadata": {
    "collapsed": false,
    "ExecuteTime": {
     "end_time": "2023-10-29T21:14:03.364589300Z",
     "start_time": "2023-10-29T21:14:03.307976Z"
    }
   },
   "id": "d52ca8a2dcff5750"
  },
  {
   "cell_type": "code",
   "execution_count": 31,
   "outputs": [
    {
     "data": {
      "text/plain": "<Figure size 1000x500 with 1 Axes>",
      "image/png": "[encoded data removed]"
     },
     "metadata": {},
     "output_type": "display_data"
    }
   ],
   "source": [
    "plt.figure(figsize=(10, 5))\n",
    "\n",
    "plt.plot(df_scores.threshold, df_scores.f1)\n",
    "plt.vlines(0.52, 0.45, 0.9, color='grey', linestyle='--', alpha=0.5)\n",
    "\n",
    "plt.xticks(np.linspace(0, 1, 11))\n",
    "plt.show()"
   ],
   "metadata": {
    "collapsed": false,
    "ExecuteTime": {
     "end_time": "2023-10-29T21:14:03.432717600Z",
     "start_time": "2023-10-29T21:14:03.323989900Z"
    }
   },
   "id": "e6626cc09710126e"
  },
  {
   "cell_type": "code",
   "execution_count": 32,
   "outputs": [
    {
     "data": {
      "text/plain": "     threshold     tp     fp     fn     tn         p         r        f1\n0         0.00  57047  56679      0      0  0.501618  1.000000  0.668103\n1         0.01  56925  28072    122  28607  0.669730  0.997861  0.801512\n2         0.02  56841  21050    206  35629  0.729751  0.996389  0.842476\n3         0.03  56778  17220    269  39459  0.767291  0.995285  0.866542\n4         0.04  56733  14388    314  42291  0.797697  0.994496  0.885291\n..         ...    ...    ...    ...    ...       ...       ...       ...\n96        0.96  49554     77   7493  56602  0.998449  0.868652  0.929039\n97        0.97  49069     61   7978  56618  0.998758  0.860150  0.924287\n98        0.98  48521     45   8526  56634  0.999073  0.850544  0.918845\n99        0.99  48071     29   8976  56650  0.999397  0.842656  0.914358\n100       1.00  10136      3  46911  56676  0.999704  0.177678  0.301730\n\n[101 rows x 8 columns]",
      "text/html": "<div>\n<style scoped>\n    .dataframe tbody tr th:only-of-type {\n        vertical-align: middle;\n    }\n\n    .dataframe tbody tr th {\n        vertical-align: top;\n    }\n\n    .dataframe thead th {\n        text-align: right;\n    }\n</style>\n<table border=\"1\" class=\"dataframe\">\n  <thead>\n    <tr style=\"text-align: right;\">\n      <th></th>\n      <th>threshold</th>\n      <th>tp</th>\n      <th>fp</th>\n      <th>fn</th>\n      <th>tn</th>\n      <th>p</th>\n      <th>r</th>\n      <th>f1</th>\n    </tr>\n  </thead>\n  <tbody>\n    <tr>\n      <th>0</th>\n      <td>0.00</td>\n      <td>57047</td>\n      <td>56679</td>\n      <td>0</td>\n      <td>0</td>\n      <td>0.501618</td>\n      <td>1.000000</td>\n      <td>0.668103</td>\n    </tr>\n    <tr>\n      <th>1</th>\n      <td>0.01</td>\n      <td>56925</td>\n      <td>28072</td>\n      <td>122</td>\n      <td>28607</td>\n      <td>0.669730</td>\n      <td>0.997861</td>\n      <td>0.801512</td>\n    </tr>\n    <tr>\n      <th>2</th>\n      <td>0.02</td>\n      <td>56841</td>\n      <td>21050</td>\n      <td>206</td>\n      <td>35629</td>\n      <td>0.729751</td>\n      <td>0.996389</td>\n      <td>0.842476</td>\n    </tr>\n    <tr>\n      <th>3</th>\n      <td>0.03</td>\n      <td>56778</td>\n      <td>17220</td>\n      <td>269</td>\n      <td>39459</td>\n      <td>0.767291</td>\n      <td>0.995285</td>\n      <td>0.866542</td>\n    </tr>\n    <tr>\n      <th>4</th>\n      <td>0.04</td>\n      <td>56733</td>\n      <td>14388</td>\n      <td>314</td>\n      <td>42291</td>\n      <td>0.797697</td>\n      <td>0.994496</td>\n      <td>0.885291</td>\n    </tr>\n    <tr>\n      <th>...</th>\n      <td>...</td>\n      <td>...</td>\n      <td>...</td>\n      <td>...</td>\n      <td>...</td>\n      <td>...</td>\n      <td>...</td>\n      <td>...</td>\n    </tr>\n    <tr>\n      <th>96</th>\n      <td>0.96</td>\n      <td>49554</td>\n      <td>77</td>\n      <td>7493</td>\n      <td>56602</td>\n      <td>0.998449</td>\n      <td>0.868652</td>\n      <td>0.929039</td>\n    </tr>\n    <tr>\n      <th>97</th>\n      <td>0.97</td>\n      <td>49069</td>\n      <td>61</td>\n      <td>7978</td>\n      <td>56618</td>\n      <td>0.998758</td>\n      <td>0.860150</td>\n      <td>0.924287</td>\n    </tr>\n    <tr>\n      <th>98</th>\n      <td>0.98</td>\n      <td>48521</td>\n      <td>45</td>\n      <td>8526</td>\n      <td>56634</td>\n      <td>0.999073</td>\n      <td>0.850544</td>\n      <td>0.918845</td>\n    </tr>\n    <tr>\n      <th>99</th>\n      <td>0.99</td>\n      <td>48071</td>\n      <td>29</td>\n      <td>8976</td>\n      <td>56650</td>\n      <td>0.999397</td>\n      <td>0.842656</td>\n      <td>0.914358</td>\n    </tr>\n    <tr>\n      <th>100</th>\n      <td>1.00</td>\n      <td>10136</td>\n      <td>3</td>\n      <td>46911</td>\n      <td>56676</td>\n      <td>0.999704</td>\n      <td>0.177678</td>\n      <td>0.301730</td>\n    </tr>\n  </tbody>\n</table>\n<p>101 rows × 8 columns</p>\n</div>"
     },
     "execution_count": 32,
     "metadata": {},
     "output_type": "execute_result"
    }
   ],
   "source": [
    "df_scores # ideal threshold for p and r is 0.37, for f1 score t is 0.46"
   ],
   "metadata": {
    "collapsed": false,
    "ExecuteTime": {
     "end_time": "2023-10-29T21:14:03.482963100Z",
     "start_time": "2023-10-29T21:14:03.432717600Z"
    }
   },
   "id": "bfc2262d6178299e"
  },
  {
   "cell_type": "code",
   "execution_count": 33,
   "outputs": [],
   "source": [
    "# using 5-Fold CV"
   ],
   "metadata": {
    "collapsed": false,
    "ExecuteTime": {
     "end_time": "2023-10-29T21:14:03.483963400Z",
     "start_time": "2023-10-29T21:14:03.448443700Z"
    }
   },
   "id": "91421d8e2474d1be"
  },
  {
   "cell_type": "code",
   "execution_count": 34,
   "outputs": [],
   "source": [
    "from sklearn.model_selection import KFold"
   ],
   "metadata": {
    "collapsed": false,
    "ExecuteTime": {
     "end_time": "2023-10-29T21:14:03.496983500Z",
     "start_time": "2023-10-29T21:14:03.463949300Z"
    }
   },
   "id": "94cd0b3fb189b05e"
  },
  {
   "cell_type": "code",
   "execution_count": 35,
   "outputs": [
    {
     "data": {
      "text/plain": "['V1',\n 'V2',\n 'V3',\n 'V4',\n 'V5',\n 'V6',\n 'V7',\n 'V8',\n 'V9',\n 'V10',\n 'V11',\n 'V12',\n 'V13',\n 'V14',\n 'V15',\n 'V16',\n 'V17',\n 'V18',\n 'V19',\n 'V20',\n 'V21',\n 'V22',\n 'V23',\n 'V24',\n 'V25',\n 'V26',\n 'V27',\n 'V28',\n 'Amount']"
     },
     "execution_count": 35,
     "metadata": {},
     "output_type": "execute_result"
    }
   ],
   "source": [
    "columns = list(credit_fraud_df.columns)\n",
    "columns.remove('Class')\n",
    "columns"
   ],
   "metadata": {
    "collapsed": false,
    "ExecuteTime": {
     "end_time": "2023-10-29T21:14:03.514493800Z",
     "start_time": "2023-10-29T21:14:03.478964200Z"
    }
   },
   "id": "40691ba7de352e5c"
  },
  {
   "cell_type": "code",
   "execution_count": 36,
   "outputs": [],
   "source": [
    "def train(fraud_train, fraud_y_train, c=1.0):\n",
    "    dicts = fraud_train[columns].to_dict(orient='records')\n",
    "\n",
    "    d_vectorized = DictVectorizer()\n",
    "    fraud_x_train = d_vectorized.fit_transform(dicts)\n",
    "\n",
    "    cur_model = LogisticRegression(solver='liblinear', C=c, max_iter=1000)\n",
    "    cur_model.fit(fraud_x_train, fraud_y_train)\n",
    "\n",
    "    return d_vectorized, cur_model\n",
    "\n",
    "def predict(df, vectorizer, trained_model):\n",
    "    dicts = df[columns].to_dict(orient='records')\n",
    "\n",
    "    x = vectorizer.transform(dicts)\n",
    "    fraud_y_pred = trained_model.predict_proba(x)[:, 1]\n",
    "\n",
    "    return fraud_y_pred"
   ],
   "metadata": {
    "collapsed": false,
    "ExecuteTime": {
     "end_time": "2023-10-29T21:14:03.542522900Z",
     "start_time": "2023-10-29T21:14:03.496983500Z"
    }
   },
   "id": "903927478b8a1379"
  },
  {
   "cell_type": "code",
   "execution_count": 37,
   "outputs": [
    {
     "name": "stdout",
     "output_type": "stream",
     "text": [
      "0.994 +- 0.000\n"
     ]
    }
   ],
   "source": [
    "scores = []\n",
    "\n",
    "k_fold = KFold(n_splits=5, shuffle=True, random_state=1)\n",
    "\n",
    "for train_idx, val_idx in k_fold.split(df_full_train):\n",
    "    df_train = df_full_train.iloc[train_idx]\n",
    "    df_val = df_full_train.iloc[val_idx]\n",
    "\n",
    "    y_train = df_train.Class.values\n",
    "    y_val = df_val.Class.values\n",
    "\n",
    "    dv, model = train(df_train, y_train, c=1.0)\n",
    "    y_pred = predict(df_val, dv, model)\n",
    "\n",
    "    auc = roc_auc_score(y_val, y_pred)\n",
    "    scores.append(auc)\n",
    "\n",
    "print('%.3f +- %.3f' % (np.mean(scores), np.std(scores)))"
   ],
   "metadata": {
    "collapsed": false,
    "ExecuteTime": {
     "end_time": "2023-10-29T21:15:01.722350800Z",
     "start_time": "2023-10-29T21:14:03.509493100Z"
    }
   },
   "id": "2f2985b1c97a2dd6"
  },
  {
   "cell_type": "code",
   "execution_count": 38,
   "outputs": [],
   "source": [
    "# Hyperparemeter Tuning"
   ],
   "metadata": {
    "collapsed": false,
    "ExecuteTime": {
     "end_time": "2023-10-29T21:15:01.737515600Z",
     "start_time": "2023-10-29T21:15:01.724002200Z"
    }
   },
   "id": "bfdc2a3fb011970c"
  },
  {
   "cell_type": "code",
   "execution_count": 39,
   "outputs": [
    {
     "name": "stdout",
     "output_type": "stream",
     "text": [
      "C=0.01, 0.993 +- 0.000\n",
      "C=0.05, 0.993 +- 0.000\n",
      "C= 0.1, 0.994 +- 0.000\n",
      "C= 0.3, 0.994 +- 0.000\n",
      "C= 0.5, 0.994 +- 0.000\n",
      "C=   1, 0.994 +- 0.000\n",
      "C=   3, 0.994 +- 0.000\n",
      "C=   5, 0.994 +- 0.000\n",
      "C=  10, 0.994 +- 0.000\n"
     ]
    }
   ],
   "source": [
    "k_fold = KFold(n_splits=5, shuffle=True, random_state=1)\n",
    "\n",
    "for c in [0.01, 0.05, 0.1, 0.3, 0.5, 1, 3, 5, 10]:\n",
    "    scores = []\n",
    "\n",
    "    for train_idx, val_idx in k_fold.split(df_full_train):\n",
    "        df_train = df_full_train.iloc[train_idx]\n",
    "        df_val = df_full_train.iloc[val_idx]\n",
    "\n",
    "        y_train = df_train.Class.values\n",
    "        y_val = df_val.Class.values\n",
    "\n",
    "        dv, model = train(df_train, y_train, c=c)\n",
    "        y_pred = predict(df_val, dv, model)\n",
    "\n",
    "        auc = roc_auc_score(y_val, y_pred)\n",
    "        scores.append(auc)\n",
    "\n",
    "    print('C=%4s, %.3f +- %.3f' % (c, np.mean(scores), np.std(scores)))"
   ],
   "metadata": {
    "collapsed": false,
    "ExecuteTime": {
     "end_time": "2023-10-29T21:24:06.051540Z",
     "start_time": "2023-10-29T21:15:01.741515500Z"
    }
   },
   "id": "55c926e65bc862e7"
  },
  {
   "cell_type": "code",
   "execution_count": 39,
   "outputs": [],
   "source": [
    "# Try for forests models"
   ],
   "metadata": {
    "collapsed": false,
    "ExecuteTime": {
     "end_time": "2023-10-29T21:24:06.076003100Z",
     "start_time": "2023-10-29T21:24:06.052539700Z"
    }
   },
   "id": "fabea4aaefc99794"
  },
  {
   "cell_type": "code",
   "execution_count": 40,
   "outputs": [],
   "source": [
    "df_full_train, df_test = train_test_split(credit_fraud_df, test_size=0.2, random_state=7)\n",
    "df_train, df_val = train_test_split(df_full_train, test_size=0.25, random_state=7)\n",
    "\n",
    "df_train = df_train.reset_index(drop=True)\n",
    "df_val = df_val.reset_index(drop=True)\n",
    "df_test = df_test.reset_index(drop=True)\n",
    "\n",
    "y_train = df_train.Class.values\n",
    "y_val = df_val.Class.values\n",
    "y_test = df_test.Class.values\n",
    "\n",
    "del df_train['Class']\n",
    "del df_val['Class']\n",
    "del df_test['Class']"
   ],
   "metadata": {
    "collapsed": false,
    "ExecuteTime": {
     "end_time": "2023-10-29T21:24:12.932353100Z",
     "start_time": "2023-10-29T21:24:12.704827800Z"
    }
   },
   "id": "1edd26ef0c60534d"
  },
  {
   "cell_type": "code",
   "execution_count": 41,
   "outputs": [],
   "source": [
    "train_dicts = df_train[columns].to_dict(orient='records')\n",
    "val_dicts = df_val[columns].to_dict(orient='records')"
   ],
   "metadata": {
    "collapsed": false,
    "ExecuteTime": {
     "end_time": "2023-10-29T21:24:16.841101800Z",
     "start_time": "2023-10-29T21:24:15.534867300Z"
    }
   },
   "id": "ea3a9a4fbf8c158d"
  },
  {
   "cell_type": "code",
   "execution_count": 42,
   "outputs": [],
   "source": [
    "dv = DictVectorizer(sparse=True)\n",
    "X_train = dv.fit_transform(train_dicts)\n",
    "X_val = dv.transform(val_dicts)"
   ],
   "metadata": {
    "collapsed": false,
    "ExecuteTime": {
     "end_time": "2023-10-29T21:24:23.496765100Z",
     "start_time": "2023-10-29T21:24:18.179707700Z"
    }
   },
   "id": "2c5ffa155a60454d"
  },
  {
   "cell_type": "code",
   "execution_count": 51,
   "outputs": [],
   "source": [
    "from sklearn.tree import DecisionTreeClassifier\n",
    "\n",
    "# Create Decision Tree classifer object\n",
    "clf = DecisionTreeClassifier(max_depth=10)\n",
    "\n",
    "# Train Decision Tree Classifer\n",
    "clf = clf.fit(X_train,y_train)\n",
    "\n",
    "#Predict the response for test dataset\n",
    "y_pred = clf.predict(X_val)\n"
   ],
   "metadata": {
    "collapsed": false,
    "ExecuteTime": {
     "end_time": "2023-10-29T21:40:24.151173600Z",
     "start_time": "2023-10-29T21:39:52.047603500Z"
    }
   },
   "id": "efa2500decbedc0"
  },
  {
   "cell_type": "code",
   "execution_count": 52,
   "outputs": [
    {
     "data": {
      "text/plain": "array([0, 1, 0, ..., 0, 1, 0], dtype=int64)"
     },
     "execution_count": 52,
     "metadata": {},
     "output_type": "execute_result"
    }
   ],
   "source": [
    "y_pred"
   ],
   "metadata": {
    "collapsed": false,
    "ExecuteTime": {
     "end_time": "2023-10-29T21:40:49.476130Z",
     "start_time": "2023-10-29T21:40:49.459114Z"
    }
   },
   "id": "2f9b0adedad6c7f3"
  },
  {
   "cell_type": "code",
   "execution_count": 54,
   "outputs": [
    {
     "data": {
      "text/plain": "array([0, 1, 0, ..., 0, 1, 0], dtype=int64)"
     },
     "execution_count": 54,
     "metadata": {},
     "output_type": "execute_result"
    }
   ],
   "source": [
    "from sklearn.ensemble import RandomForestClassifier\n",
    "\n",
    "rcf = RandomForestClassifier(max_depth=10, n_estimators=10)\n",
    "rcf = rcf.fit(X_train,y_train)\n",
    "rcf.predict(X_val)"
   ],
   "metadata": {
    "collapsed": false,
    "ExecuteTime": {
     "end_time": "2023-10-29T21:43:18.485919400Z",
     "start_time": "2023-10-29T21:42:41.648470200Z"
    }
   },
   "id": "a7b243dcf4b8ee9f"
  }
 ],
 "metadata": {
  "kernelspec": {
   "display_name": "Python 3",
   "language": "python",
   "name": "python3"
  },
  "language_info": {
   "codemirror_mode": {
    "name": "ipython",
    "version": 2
   },
   "file_extension": ".py",
   "mimetype": "text/x-python",
   "name": "python",
   "nbconvert_exporter": "python",
   "pygments_lexer": "ipython2",
   "version": "2.7.6"
  }
 },
 "nbformat": 4,
 "nbformat_minor": 5
}
